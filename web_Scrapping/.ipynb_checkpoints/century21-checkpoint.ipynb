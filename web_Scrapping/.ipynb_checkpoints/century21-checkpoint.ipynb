{
 "cells": [
  {
   "cell_type": "code",
   "execution_count": 195,
   "metadata": {
    "scrolled": false
   },
   "outputs": [
    {
     "name": "stdout",
     "output_type": "stream",
     "text": [
      "3\n",
      "http://www.pyclass.com/real-estate/rock-springs-wy/LCWYROCKSPRINGS/t=0&s=0.html\n",
      "http://www.pyclass.com/real-estate/rock-springs-wy/LCWYROCKSPRINGS/t=0&s=10.html\n",
      "http://www.pyclass.com/real-estate/rock-springs-wy/LCWYROCKSPRINGS/t=0&s=20.html\n"
     ]
    }
   ],
   "source": [
    "import requests\n",
    "import pandas\n",
    "from bs4 import BeautifulSoup\n",
    "\n",
    "\n",
    "main_url= \"http://www.pyclass.com/real-estate/rock-springs-wy/LCWYROCKSPRINGS/\"\n",
    "r=requests.get(main_url,headers={'User-agent': 'Mozilla/5.0 (X11; Ubuntu; Linux x86_64; rv:61.0) Gecko/20100101 Firefox/61.0'})\n",
    "c=r.content\n",
    "soup=BeautifulSoup(c,\"html.parser\")\n",
    "all_property_div=soup.find_all(\"div\",{\"class\":\"propertyRow\"})\n",
    "\n",
    "page_nr = soup.find_all(\"a\",{\"class\":\"Page\"})[-1].text\n",
    "\n",
    "list1=[]\n",
    "base_url= \"http://www.pyclass.com/real-estate/rock-springs-wy/LCWYROCKSPRINGS/t=0&s=\"\n",
    "for app_string in range(0,int(page_nr)*10,10):\n",
    "    new_url=base_url + str(app_string) + \".html\"\n",
    "    print(new_url)\n",
    "    r=requests.get(new_url,headers={'User-agent': 'Mozilla/5.0 (X11; Ubuntu; Linux x86_64; rv:61.0) Gecko/20100101 Firefox/61.0'})\n",
    "    c=r.content\n",
    "    soup=BeautifulSoup(c,\"html.parser\")\n",
    "    all_property_div=soup.find_all(\"div\",{\"class\":\"propertyRow\"})\n",
    "    \n",
    "    for each_prop in all_property_div:\n",
    "        d={}\n",
    "        d[\"Price\"]=each_prop.find(\"h4\",{\"class\":\"propPrice\"}).text.replace(\"\\n\",\"\").replace(\" \",\"\")\n",
    "        d[\"Address\"]=each_prop.find_all(\"span\",{\"class\":\"propAddressCollapse\"})[0].text\n",
    "        try:\n",
    "            d[\"Locality\"]=each_prop.find_all(\"span\",{\"class\":\"propAddressCollapse\"})[1].text\n",
    "        except:\n",
    "            d[\"Locality\"]=None\n",
    "        try:\n",
    "            d[\"Beds\"]=each_prop.find(\"span\",{\"class\":\"infoBed\"}).find(\"b\").text\n",
    "        except:\n",
    "                pass\n",
    "                d[\"Beds\"]=None\n",
    "        try:\n",
    "            d[\"Square Feet\"]=each_prop.find(\"span\",{\"class\":\"infoSqFt\"}).find(\"b\").text\n",
    "        except:\n",
    "                pass\n",
    "                d[\"Square Feet\"]=None\n",
    "        try:\n",
    "            d[\"Full Bath\"]=each_prop.find(\"span\",{\"class\":\"infoValueFullBath\"}).find(\"b\").text\n",
    "        except:\n",
    "                pass\n",
    "                d[\"Full Bath\"]=None\n",
    "        try:\n",
    "            d[\"Half Bath\"]=each_prop.find(\"span\",{\"class\":\"infoValueHalfBath\"}).find(\"b\").text\n",
    "        except:\n",
    "                pass\n",
    "                d[\"Half Bath\"]=None\n",
    "        for each_col_div in each_prop.find_all(\"div\",{\"class\":\"columnGroup\"}):\n",
    "            for feature_group, feature_name in zip(each_col_div.find_all(\"span\",{\"class\":\"featureGroup\"}),each_col_div.find_all(\"span\",{\"class\":\"featureName\"})):\n",
    "                if \"Lot Size\" in feature_group.text:\n",
    "                    d[\"Lot Size\"]=feature_name.text\n",
    "        list1.append(d)\n",
    "df=pandas.DataFrame(list1)\n",
    "df.to_csv(\"output.csv\")\n"
   ]
  }
 ],
 "metadata": {
  "kernelspec": {
   "display_name": "Python 3",
   "language": "python",
   "name": "python3"
  },
  "language_info": {
   "codemirror_mode": {
    "name": "ipython",
    "version": 3
   },
   "file_extension": ".py",
   "mimetype": "text/x-python",
   "name": "python",
   "nbconvert_exporter": "python",
   "pygments_lexer": "ipython3",
   "version": "3.7.0"
  }
 },
 "nbformat": 4,
 "nbformat_minor": 2
}
